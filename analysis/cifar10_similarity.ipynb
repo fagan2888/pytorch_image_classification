{
 "cells": [
  {
   "cell_type": "code",
   "execution_count": 1,
   "metadata": {},
   "outputs": [],
   "source": [
    "import json\n",
    "import os\n",
    "import time\n",
    "\n",
    "import matplotlib.pylab as plt\n",
    "import numpy as np\n",
    "import tqdm"
   ]
  },
  {
   "cell_type": "code",
   "execution_count": 2,
   "metadata": {},
   "outputs": [],
   "source": [
    "MODEL_DIR = \"/home/john/pytorch_image_classification/results/cifar_search\"\n",
    "LOG = \"log.json\"\n",
    "PREDICTIONS = \"predictions_{}.npy\""
   ]
  },
  {
   "cell_type": "code",
   "execution_count": 3,
   "metadata": {},
   "outputs": [],
   "source": [
    "def is_valid(name):\n",
    "    if not os.path.isfile(os.path.join(MODEL_DIR, name, LOG)):\n",
    "        return False\n",
    "    return True\n",
    "    \n",
    "# Filter out failed runs\n",
    "model_names = [name for name in os.listdir(MODEL_DIR) if is_valid(name)]"
   ]
  },
  {
   "cell_type": "markdown",
   "metadata": {},
   "source": [
    "How good are the models we're training?"
   ]
  },
  {
   "cell_type": "code",
   "execution_count": 4,
   "metadata": {},
   "outputs": [],
   "source": [
    "def best_test(name):\n",
    "    with open(os.path.join(MODEL_DIR, name, LOG)) as handle:\n",
    "        log = json.load(handle)\n",
    "    return max([epoch[\"test\"][\"accuracy\"] for epoch in log])"
   ]
  },
  {
   "cell_type": "code",
   "execution_count": 5,
   "metadata": {},
   "outputs": [],
   "source": [
    "test_accs = [best_test(name) for name in model_names]"
   ]
  },
  {
   "cell_type": "code",
   "execution_count": 6,
   "metadata": {},
   "outputs": [
    {
     "data": {
      "image/png": "[encoded data removed]",
      "text/plain": [
       "<Figure size 432x288 with 1 Axes>"
      ]
     },
     "metadata": {
      "needs_background": "light"
     },
     "output_type": "display_data"
    }
   ],
   "source": [
    "plt.hist(test_accs, cumulative=True, label='CDF', density=True, histtype='step')\n",
    "plt.xlabel(\"Test Accuracy\")\n",
    "plt.ylabel(\"CDF\")\n",
    "plt.show()"
   ]
  },
  {
   "cell_type": "markdown",
   "metadata": {},
   "source": [
    "Compute similarities for all of the models"
   ]
  },
  {
   "cell_type": "code",
   "execution_count": 23,
   "metadata": {},
   "outputs": [],
   "source": [
    "answers = np.load(\"testvecs.npy\")"
   ]
  },
  {
   "cell_type": "code",
   "execution_count": 24,
   "metadata": {},
   "outputs": [],
   "source": [
    "# Models all trained for 200 epochs. Take 10 checkpoints during training\n",
    "checkpoints = list(range(0, 201, 20))\n",
    "\n",
    "predictions = []\n",
    "for name in model_names:\n",
    "    for checkpoint in checkpoints:\n",
    "        fname = os.path.join(MODEL_DIR, name, PREDICTIONS.format(checkpoint))\n",
    "        if not os.path.isfile(fname):\n",
    "            continue\n",
    "        with open(fname, \"rb\") as handle:\n",
    "            preds = np.load(handle)\n",
    "        predictions.append(preds)"
   ]
  },
  {
   "cell_type": "code",
   "execution_count": 25,
   "metadata": {},
   "outputs": [
    {
     "data": {
      "application/vnd.jupyter.widget-view+json": {
       "model_id": "1f624d9272a74dbab5b207011bcc6ed1",
       "version_major": 2,
       "version_minor": 0
      },
      "text/plain": [
       "HBox(children=(IntProgress(value=0, max=579), HTML(value='')))"
      ]
     },
     "metadata": {},
     "output_type": "display_data"
    },
    {
     "name": "stdout",
     "output_type": "stream",
     "text": [
      "\n"
     ]
    }
   ],
   "source": [
    "def multiclass_simularity(i, j):\n",
    "    return np.mean(predictions[i] == predictions[j])\n",
    "\n",
    "def correct_simularity(i, j):\n",
    "    return np.mean((predictions[i] == answers) == (predictions[j] == answers))\n",
    "\n",
    "mc_sims = []\n",
    "corr_sims = []\n",
    "for i in tqdm.tqdm_notebook(range(len(predictions))):\n",
    "    for j in range(i + 1, len(predictions)):\n",
    "        mc_sims.append(multiclass_simularity(i, j))\n",
    "        corr_sims.append(correct_simularity(i, j))"
   ]
  },
  {
   "cell_type": "code",
   "execution_count": 26,
   "metadata": {},
   "outputs": [
    {
     "data": {
      "image/png": "[encoded data removed]",
      "text/plain": [
       "<Figure size 432x288 with 1 Axes>"
      ]
     },
     "metadata": {
      "needs_background": "light"
     },
     "output_type": "display_data"
    }
   ],
   "source": [
    "# Plot similarities!\n",
    "plt.plot(sorted(mc_sims), label=\"Multi-class simularity\")\n",
    "plt.plot(sorted(corr_sims), label=\"Correct/Incorrect simularity\")\n",
    "plt.title(\"CNN Simularities on Cifar10\")\n",
    "plt.xlabel(\"Model Pair\")\n",
    "plt.ylabel(\"Simularity Metric\")\n",
    "plt.legend()\n",
    "plt.show()"
   ]
  },
  {
   "cell_type": "code",
   "execution_count": 27,
   "metadata": {},
   "outputs": [],
   "source": [
    "# Refine the analyis by bucketing using errors\n",
    "errors = [np.mean(preds == answers) for preds in predictions]"
   ]
  },
  {
   "cell_type": "code",
   "execution_count": 28,
   "metadata": {},
   "outputs": [],
   "source": [
    "gap = 0.05\n",
    "valid_pairs = []\n",
    "for i in range(len(predictions)):\n",
    "    for j in range(len(predictions)):\n",
    "        if np.abs(errors[i] - errors[j]) < gap:\n",
    "            valid_pairs.append((i, j))"
   ]
  },
  {
   "cell_type": "code",
   "execution_count": 29,
   "metadata": {},
   "outputs": [
    {
     "data": {
      "application/vnd.jupyter.widget-view+json": {
       "model_id": "aee3778faa8941f7b1beb5b67b0ba7a2",
       "version_major": 2,
       "version_minor": 0
      },
      "text/plain": [
       "HBox(children=(IntProgress(value=0, max=49499), HTML(value='')))"
      ]
     },
     "metadata": {},
     "output_type": "display_data"
    },
    {
     "name": "stdout",
     "output_type": "stream",
     "text": [
      "\n"
     ]
    }
   ],
   "source": [
    "mc_sims = []\n",
    "corr_sims = []\n",
    "for (i, j) in tqdm.tqdm_notebook(valid_pairs):\n",
    "    mc_sims.append(multiclass_simularity(i, j))\n",
    "    corr_sims.append(correct_simularity(i, j))"
   ]
  },
  {
   "cell_type": "code",
   "execution_count": 30,
   "metadata": {},
   "outputs": [
    {
     "data": {
      "image/png": "[encoded data removed]",
      "text/plain": [
       "<Figure size 432x288 with 1 Axes>"
      ]
     },
     "metadata": {
      "needs_background": "light"
     },
     "output_type": "display_data"
    }
   ],
   "source": [
    "# Plot similarities!\n",
    "plt.plot(sorted(mc_sims), label=\"Multi-class simularity\")\n",
    "plt.plot(sorted(corr_sims), label=\"Correct/Incorrect simularity\")\n",
    "plt.title(\"CNN Simularities on Cifar10\")\n",
    "plt.xlabel(\"Model Pair\")\n",
    "plt.ylabel(\"Simularity Metric\")\n",
    "plt.legend()\n",
    "plt.show()"
   ]
  },
  {
   "cell_type": "code",
   "execution_count": null,
   "metadata": {},
   "outputs": [],
   "source": []
  }
 ],
 "metadata": {
  "kernelspec": {
   "display_name": "Python 3",
   "language": "python",
   "name": "python3"
  },
  "language_info": {
   "codemirror_mode": {
    "name": "ipython",
    "version": 3
   },
   "file_extension": ".py",
   "mimetype": "text/x-python",
   "name": "python",
   "nbconvert_exporter": "python",
   "pygments_lexer": "ipython3",
   "version": "3.7.1"
  }
 },
 "nbformat": 4,
 "nbformat_minor": 2
}
