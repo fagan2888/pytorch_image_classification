{
 "cells": [
  {
   "cell_type": "code",
   "execution_count": 1,
   "metadata": {},
   "outputs": [],
   "source": [
    "import json\n",
    "import os\n",
    "import time\n",
    "\n",
    "import matplotlib.pylab as plt\n",
    "import numpy as np\n",
    "import tqdm"
   ]
  },
  {
   "cell_type": "code",
   "execution_count": 3,
   "metadata": {},
   "outputs": [],
   "source": [
    "RANDOM_MODEL_DIR = \"/mnt/data/john/nas_similarity_experiments/random_genotype/\"\n",
    "BEST_MODEL_DIR = \"/mnt/data/john/nas_similarity_experiments/best_genotype/\"\n",
    "LOG = \"log.txt\"\n",
    "PREDICTIONS = \"predictions_{}.npy\""
   ]
  },
  {
   "cell_type": "code",
   "execution_count": 128,
   "metadata": {},
   "outputs": [
    {
     "name": "stdout",
     "output_type": "stream",
     "text": [
      "11 models in /mnt/data/john/nas_similarity_experiments/random_genotype/ have trained for 1 epochs\n",
      "11 models in /mnt/data/john/nas_similarity_experiments/random_genotype/ have trained for 200 epochs\n",
      "8 models in /mnt/data/john/nas_similarity_experiments/random_genotype/ have trained for 600 epochs\n",
      "0 models in /mnt/data/john/nas_similarity_experiments/random_genotype/ have trained for 700 epochs\n",
      "\n",
      "12 models in /mnt/data/john/nas_similarity_experiments/best_genotype/ have trained for 1 epochs\n",
      "10 models in /mnt/data/john/nas_similarity_experiments/best_genotype/ have trained for 200 epochs\n",
      "8 models in /mnt/data/john/nas_similarity_experiments/best_genotype/ have trained for 600 epochs\n",
      "0 models in /mnt/data/john/nas_similarity_experiments/best_genotype/ have trained for 700 epochs\n",
      "\n"
     ]
    }
   ],
   "source": [
    "def get_models(model_dir):\n",
    "    names = os.listdir(model_dir)\n",
    "    \n",
    "    num_1 = 0\n",
    "    num_200 = 0 \n",
    "    num_600 = 0\n",
    "    num_700 = 0\n",
    "    for name in names:\n",
    "        num_1 += os.path.isfile(os.path.join(model_dir, name, PREDICTIONS.format(0))) \n",
    "        num_200 += os.path.isfile(os.path.join(model_dir, name, PREDICTIONS.format(200)))\n",
    "        num_600 += os.path.isfile(os.path.join(model_dir, name, PREDICTIONS.format(599)))\n",
    "        num_700 += os.path.isfile(os.path.join(model_dir, name, PREDICTIONS.format(700)))\n",
    "\n",
    "    print(f\"{num_1} models in {model_dir} have trained for 1 epochs\")\n",
    "    print(f\"{num_200} models in {model_dir} have trained for 200 epochs\")\n",
    "    print(f\"{num_600} models in {model_dir} have trained for 600 epochs\")\n",
    "    print(f\"{num_700} models in {model_dir} have trained for 700 epochs\")\n",
    "    print()\n",
    "    return [os.path.join(model_dir, name) for name in names]\n",
    "\n",
    "random_model_names = get_models(RANDOM_MODEL_DIR)\n",
    "best_model_names = get_models(BEST_MODEL_DIR)"
   ]
  },
  {
   "cell_type": "markdown",
   "metadata": {},
   "source": [
    "How good are the models we're training?"
   ]
  },
  {
   "cell_type": "code",
   "execution_count": 14,
   "metadata": {},
   "outputs": [],
   "source": [
    "answers = np.load(\"testvecs.npy\")"
   ]
  },
  {
   "cell_type": "code",
   "execution_count": 94,
   "metadata": {},
   "outputs": [],
   "source": [
    "def load_prediction(fname):\n",
    "    \"\"\"Annoying loading because I'm dumb and saved top-5 predictions for each point, not top-1\"\"\"\n",
    "    preds = np.load(fname)\n",
    "    full_batches = preds[:-80]\n",
    "    last_batch = preds[-80:]\n",
    "    full_batch_preds = np.hstack([batch[:96] for batch in np.split(full_batches, 104)])\n",
    "    last_batch_preds = last_batch[:16]\n",
    "    return np.append(full_batch_preds, last_batch_preds)"
   ]
  },
  {
   "cell_type": "code",
   "execution_count": 98,
   "metadata": {},
   "outputs": [],
   "source": [
    "def best_test(name):\n",
    "    final_preds = os.path.join(name, PREDICTIONS.format(599))\n",
    "    if os.path.isfile(final_preds):\n",
    "        preds = load_prediction(final_preds)\n",
    "        return np.mean(preds == answers)\n",
    "    return None"
   ]
  },
  {
   "cell_type": "code",
   "execution_count": 100,
   "metadata": {},
   "outputs": [
    {
     "name": "stdout",
     "output_type": "stream",
     "text": [
      "[0.9733, 0.9687, 0.9689, 0.9665, 0.9666, 0.9633, 0.9706, 0.967]\n",
      "Using 8  models...\n"
     ]
    },
    {
     "data": {
      "image/png": "[encoded data removed]",
      "text/plain": [
       "<Figure size 432x288 with 1 Axes>"
      ]
     },
     "metadata": {
      "needs_background": "light"
     },
     "output_type": "display_data"
    },
    {
     "name": "stdout",
     "output_type": "stream",
     "text": [
      "[0.9655, 0.9638, 0.9693, 0.9707, 0.9709, 0.9661, 0.9723, 0.9701]\n",
      "Using 8  models...\n"
     ]
    },
    {
     "data": {
      "image/png": "[encoded data removed]",
      "text/plain": [
       "<Figure size 432x288 with 1 Axes>"
      ]
     },
     "metadata": {
      "needs_background": "light"
     },
     "output_type": "display_data"
    }
   ],
   "source": [
    "def plot_test_cdf(model_names, label):\n",
    "    test_accs = [best_test(name) for name in model_names]\n",
    "    test_accs = [x for x in test_accs if x is not None]\n",
    "    print(test_accs)\n",
    "    print(f\"Using {len(test_accs)}  models...\")\n",
    "    plt.hist(test_accs, cumulative=True, label='CDF', density=True, histtype='step')\n",
    "    plt.xlabel(\"Test Accuracy\")\n",
    "    plt.ylabel(\"CDF\")\n",
    "    plt.title(f\"{label} Test CDS\")\n",
    "    plt.show()\n",
    "    \n",
    "plot_test_cdf(random_model_names, \"random genotypes\")\n",
    "plot_test_cdf(best_model_names, \"best genotypes\")"
   ]
  },
  {
   "cell_type": "markdown",
   "metadata": {},
   "source": [
    "Estimate average similarity for random models and best models using final checkpoint"
   ]
  },
  {
   "cell_type": "code",
   "execution_count": 143,
   "metadata": {},
   "outputs": [
    {
     "name": "stdout",
     "output_type": "stream",
     "text": [
      "Random NAS Configs\n",
      "Using 9 models\n",
      "Average pairwise similarity 0.9761035714285714\n",
      "Average accuracy 0.9681124999999999\n",
      "0.9728 0.9799\n",
      "0.9733\n",
      "[0.9733, 0.9687, 0.9689, 0.9665, 0.9666, 0.9633, 0.9706, 0.967]\n",
      "0.9753496170201355 0.9768575258370074\n"
     ]
    }
   ],
   "source": [
    "random_model_preds  = []\n",
    "for name in random_model_names:\n",
    "    fname = os.path.join(name, PREDICTIONS.format(599))\n",
    "    if not os.path.isfile(fname):\n",
    "        continue\n",
    "    random_model_preds.append(load_prediction(fname))\n",
    "\n",
    "accs = [np.mean(pred == answers) for pred in random_model_preds]\n",
    "\n",
    "sims = []\n",
    "for idx, pred1 in enumerate(random_model_preds):\n",
    "    for pred2 in random_model_preds[idx+1:]:\n",
    "        sims.append(np.mean((pred1 == answers) == (pred2 == answers)))\n",
    "\n",
    "print(\"Random NAS Configs\")\n",
    "print(f\"Using {len(accs) + 1} models\")\n",
    "print(f\"Average pairwise similarity {np.mean(sims)}\")\n",
    "print(f\"Average accuracy {np.mean(accs)}\")\n",
    "print(np.min(sims), np.max(sims))\n",
    "print(np.max(accs))\n",
    "print(accs)\n",
    "\n",
    "w = 1.96 * (np.std(sims) / np.sqrt(len(sims)))\n",
    "print(np.mean(sims) - w, np.mean(sims) + w)"
   ]
  },
  {
   "cell_type": "code",
   "execution_count": 141,
   "metadata": {},
   "outputs": [
    {
     "name": "stdout",
     "output_type": "stream",
     "text": [
      "Top-50 NAS Configs\n",
      "Using 8 models\n",
      "Average pairwise similarity 0.975975\n",
      "Average accuracy 0.9685874999999999\n",
      "0.973 0.9798\n",
      "0.9723\n",
      "[0.9655, 0.9638, 0.9693, 0.9707, 0.9709, 0.9661, 0.9723, 0.9701]\n"
     ]
    },
    {
     "data": {
      "text/plain": [
       "0.000724127923781427"
      ]
     },
     "execution_count": 141,
     "metadata": {},
     "output_type": "execute_result"
    }
   ],
   "source": [
    "random_model_preds  = []\n",
    "for name in best_model_names:\n",
    "    fname = os.path.join(name, PREDICTIONS.format(599))\n",
    "    if not os.path.isfile(fname):\n",
    "        continue\n",
    "    random_model_preds.append(load_prediction(fname))\n",
    "\n",
    "accs = [np.mean(pred == answers) for pred in random_model_preds]\n",
    "\n",
    "sims = []\n",
    "for idx, pred1 in enumerate(random_model_preds):\n",
    "    for pred2 in random_model_preds[idx+1:]:\n",
    "        sims.append(np.mean((pred1 == answers) == (pred2 == answers)))\n",
    "\n",
    "print(\"Top-50 NAS Configs\")\n",
    "print(f\"Using {len(accs)} models\")\n",
    "print(f\"Average pairwise similarity {np.mean(sims)}\")\n",
    "print(f\"Average accuracy {np.mean(accs)}\")\n",
    "print(np.min(sims), np.max(sims))\n",
    "print(np.max(accs))\n",
    "print(accs)\n",
    "\n",
    "1.96 * (np.std(sims) / np.sqrt(len(sims)))"
   ]
  },
  {
   "cell_type": "code",
   "execution_count": 135,
   "metadata": {},
   "outputs": [
    {
     "data": {
      "text/plain": [
       "0.9733"
      ]
     },
     "execution_count": 135,
     "metadata": {},
     "output_type": "execute_result"
    }
   ],
   "source": [
    "np.max(accs)"
   ]
  },
  {
   "cell_type": "markdown",
   "metadata": {},
   "source": [
    "Compute similarities for all of the models"
   ]
  },
  {
   "cell_type": "code",
   "execution_count": 101,
   "metadata": {},
   "outputs": [],
   "source": [
    "# Models all trained for 200 epochs. Take 10 checkpoints during training\n",
    "checkpoints = list(range(0, 600, 50)) + [599]\n",
    "\n",
    "predictions = []\n",
    "for name in random_model_names:\n",
    "    for checkpoint in checkpoints:\n",
    "        fname = os.path.join(name, PREDICTIONS.format(checkpoint))\n",
    "        if not os.path.isfile(fname):\n",
    "            continue\n",
    "        predictions.append(load_prediction(fname))"
   ]
  },
  {
   "cell_type": "code",
   "execution_count": 102,
   "metadata": {},
   "outputs": [],
   "source": [
    "# Filter out models with <40% accuracy\n",
    "accs = [np.mean(preds == answers) for preds in predictions]\n",
    "\n",
    "predictions = [preds for acc, preds in zip(accs, predictions) if acc > 0.4]"
   ]
  },
  {
   "cell_type": "code",
   "execution_count": 103,
   "metadata": {},
   "outputs": [
    {
     "data": {
      "application/vnd.jupyter.widget-view+json": {
       "model_id": "b27ce658e4c742879efe15b13c8aca53",
       "version_major": 2,
       "version_minor": 0
      },
      "text/plain": [
       "HBox(children=(IntProgress(value=0, max=123), HTML(value='')))"
      ]
     },
     "metadata": {},
     "output_type": "display_data"
    },
    {
     "name": "stdout",
     "output_type": "stream",
     "text": [
      "\n"
     ]
    }
   ],
   "source": [
    "def multiclass_simularity(i, j):\n",
    "    return np.mean(predictions[i] == predictions[j])\n",
    "\n",
    "def correct_simularity(i, j):\n",
    "    return np.mean((predictions[i] == answers) == (predictions[j] == answers))\n",
    "\n",
    "mc_sims = []\n",
    "corr_sims = []\n",
    "for i in tqdm.tqdm_notebook(range(len(predictions))):\n",
    "    for j in range(i + 1, len(predictions)):\n",
    "        mc_sims.append(multiclass_simularity(i, j))\n",
    "        corr_sims.append(correct_simularity(i, j))"
   ]
  },
  {
   "cell_type": "code",
   "execution_count": 104,
   "metadata": {},
   "outputs": [
    {
     "data": {
      "image/png": "[encoded data removed]",
      "text/plain": [
       "<Figure size 432x288 with 1 Axes>"
      ]
     },
     "metadata": {
      "needs_background": "light"
     },
     "output_type": "display_data"
    }
   ],
   "source": [
    "# Plot similarities!\n",
    "plt.plot(sorted(mc_sims), label=\"Multi-class similarity\")\n",
    "plt.plot(sorted(corr_sims), label=\"Correct/Incorrect similarity\")\n",
    "plt.title(\"CNN Similarities on Cifar10\")\n",
    "plt.xlabel(\"Model Pair\")\n",
    "plt.ylabel(\"Simularity Metric\")\n",
    "plt.legend()\n",
    "plt.show()"
   ]
  },
  {
   "cell_type": "code",
   "execution_count": 106,
   "metadata": {},
   "outputs": [],
   "source": [
    "# Refine the analyis by bucketing using errors\n",
    "gap = 0.05\n",
    "valid_pairs = []\n",
    "for i in range(len(predictions)):\n",
    "    for j in range(len(predictions)):\n",
    "        if np.abs(accs[i] - accs[j]) < gap:\n",
    "            valid_pairs.append((i, j))"
   ]
  },
  {
   "cell_type": "code",
   "execution_count": 107,
   "metadata": {},
   "outputs": [
    {
     "data": {
      "application/vnd.jupyter.widget-view+json": {
       "model_id": "44e5c7ed9db84cb4a8d6f9a7fb22add8",
       "version_major": 2,
       "version_minor": 0
      },
      "text/plain": [
       "HBox(children=(IntProgress(value=0, max=10027), HTML(value='')))"
      ]
     },
     "metadata": {},
     "output_type": "display_data"
    },
    {
     "name": "stdout",
     "output_type": "stream",
     "text": [
      "\n"
     ]
    }
   ],
   "source": [
    "mc_sims = []\n",
    "corr_sims = []\n",
    "for (i, j) in tqdm.tqdm_notebook(valid_pairs):\n",
    "    mc_sims.append(multiclass_simularity(i, j))\n",
    "    corr_sims.append(correct_simularity(i, j))"
   ]
  },
  {
   "cell_type": "code",
   "execution_count": 108,
   "metadata": {},
   "outputs": [
    {
     "data": {
      "image/png": "[encoded data removed]",
      "text/plain": [
       "<Figure size 432x288 with 1 Axes>"
      ]
     },
     "metadata": {
      "needs_background": "light"
     },
     "output_type": "display_data"
    }
   ],
   "source": [
    "# Plot similarities!\n",
    "plt.plot(sorted(mc_sims), label=\"Multi-class simularity\")\n",
    "plt.plot(sorted(corr_sims), label=\"Correct/Incorrect simularity\")\n",
    "plt.title(\"CNN Similarities on Cifar10\")\n",
    "plt.xlabel(\"Model Pair\")\n",
    "plt.ylabel(\"Simularity Metric\")\n",
    "plt.legend()\n",
    "plt.show()"
   ]
  },
  {
   "cell_type": "code",
   "execution_count": null,
   "metadata": {},
   "outputs": [],
   "source": []
  }
 ],
 "metadata": {
  "kernelspec": {
   "display_name": "Python 3",
   "language": "python",
   "name": "python3"
  },
  "language_info": {
   "codemirror_mode": {
    "name": "ipython",
    "version": 3
   },
   "file_extension": ".py",
   "mimetype": "text/x-python",
   "name": "python",
   "nbconvert_exporter": "python",
   "pygments_lexer": "ipython3",
   "version": "3.7.1"
  }
 },
 "nbformat": 4,
 "nbformat_minor": 2
}
